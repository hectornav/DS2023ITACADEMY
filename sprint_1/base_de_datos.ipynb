{
 "cells": [
  {
   "cell_type": "markdown",
   "metadata": {},
   "source": [
    "<center><h1>Ejercicios con MySQL</h1></center>\n"
   ]
  },
  {
   "cell_type": "code",
   "execution_count": 1,
   "metadata": {},
   "outputs": [],
   "source": [
    "#import libraries mysql\n",
    "import mysql.connector"
   ]
  },
  {
   "cell_type": "code",
   "execution_count": 2,
   "metadata": {},
   "outputs": [],
   "source": [
    "# Configuración de la conexión\n",
    "config = {\n",
    "    'user': 'root',\n",
    "    'password': 'IT123DS_',\n",
    "    'host': 'localhost',\n",
    "    'raise_on_warnings': True\n",
    "}"
   ]
  },
  {
   "cell_type": "code",
   "execution_count": 4,
   "metadata": {},
   "outputs": [],
   "source": [
    "def execute_sql_from_file(filename, cursor):\n",
    "    with open(filename, 'r') as file:\n",
    "        # Ignorar líneas que comienzan con guiones\n",
    "        commands = [line for line in file if not line.startswith('--') and not line.startswith('---')]\n",
    "        sql_commands = \"\".join(commands).split(';')\n",
    "        for command in sql_commands:\n",
    "            try:\n",
    "                if command.strip() != '':\n",
    "                    cursor.execute(command)\n",
    "            except Exception as e:\n",
    "                print(f\"Error executing {command}: {str(e)}\")"
   ]
  },
  {
   "cell_type": "code",
   "execution_count": 5,
   "metadata": {},
   "outputs": [],
   "source": [
    "# Establecer la conexión\n",
    "connection = mysql.connector.connect(**config)\n",
    "cursor = connection.cursor(buffered=True)"
   ]
  },
  {
   "cell_type": "markdown",
   "metadata": {},
   "source": [
    "**EJERCICIO 1** : A partir de los documentos adjuntos (estructura y datos), crea una base de datos con MySQL. Muestra las principales características del esquema creado y explica las diferentes tablas y variables existentes."
   ]
  },
  {
   "cell_type": "code",
   "execution_count": 6,
   "metadata": {},
   "outputs": [],
   "source": [
    "#Database creation and selection according to the files\n",
    "try:\n",
    "    cursor.execute(\"CREATE DATABASE IF NOT EXISTS SGAE_Practica;\")\n",
    "except mysql.connector.Error as err:\n",
    "    if err.errno == 1007:  # Error code for database exists\n",
    "        print(\"La base de datos ya existe. Continuando...\")\n",
    "    else:\n",
    "        raise\n",
    "\n",
    "# Ejecutar instrucciones SQL de los archivos\n",
    "execute_sql_from_file('Estructura_de_la_base_de_dades.txt', cursor)\n",
    "execute_sql_from_file('Dades_a_introduir.txt', cursor)"
   ]
  },
  {
   "cell_type": "code",
   "execution_count": 16,
   "metadata": {},
   "outputs": [
    {
     "name": "stdout",
     "output_type": "stream",
     "text": [
      "('tb_genre',)\n",
      "('tb_movie',)\n",
      "('tb_movie_person',)\n",
      "('tb_person',)\n",
      "('tb_role',)\n"
     ]
    }
   ],
   "source": [
    "#print table movies\n",
    "cursor.execute(\"USE movies;\")\n",
    "cursor.execute(\"SHOW TABLES\")\n",
    "tables = cursor.fetchall()\n",
    "for table in tables:\n",
    "    print(table)"
   ]
  },
  {
   "cell_type": "markdown",
   "metadata": {},
   "source": [
    "*Descripción*: Se crea una base de datos llamada `movies` y se crean las tablas que corresponden al genre, movie, movie_person, y role.\n"
   ]
  },
  {
   "cell_type": "code",
   "execution_count": 18,
   "metadata": {},
   "outputs": [
    {
     "name": "stdout",
     "output_type": "stream",
     "text": [
      "Tabla: tb_genre\n",
      "('genre_id', 'genre_name', 'created_by_user', 'created_date', 'updated_date')\n",
      "Tabla: tb_movie\n",
      "('movie_id', 'movie_title', 'movie_date', 'movie_format', 'movie_genre_id', 'created_by_user', 'created_date', 'updated_date')\n",
      "Tabla: tb_movie_person\n",
      "('movie_id', 'person_id', 'role_id', 'movie_award_ind', 'created_by_user', 'created_date', 'updated_date')\n",
      "Tabla: tb_person\n",
      "('person_id', 'person_name', 'person_country', 'person_dob', 'person_dod', 'person_parent_id', 'created_by_user', 'created_date', 'updated_date')\n",
      "Tabla: tb_role\n",
      "('role_id', 'role_name', 'created_by_user', 'created_date', 'updated_date')\n"
     ]
    }
   ],
   "source": [
    "#Selecciona la base de datos\n",
    "cursor.execute(\"USE movies;\")\n",
    "\n",
    "#Muestra las tablas en esa base de datos\n",
    "cursor.execute(\"SHOW TABLES\")\n",
    "tables = cursor.fetchall()\n",
    "\n",
    "#Itera sobre cada tabla y muestra su contenido\n",
    "for (table_name,) in tables:\n",
    "    cursor.execute(f\"SELECT * FROM {table_name}\")\n",
    "    rows = cursor.fetchall()\n",
    "    #muestra informacion de las columnas de la tabla\n",
    "    print(f\"Tabla: {table_name}\")\n",
    "    print(cursor.column_names)\n"
   ]
  },
  {
   "cell_type": "markdown",
   "metadata": {},
   "source": [
    "*Descripción*:  Se muestran las columnas que continen las tablas creadas."
   ]
  },
  {
   "cell_type": "markdown",
   "metadata": {},
   "source": [
    "**EJERCICIO 2**: Realiza la siguiente consulta sobre la recién creada base de datos: \n",
    "\n",
    "Tienes que obtener el nombre, el país y la fecha de nacimiento de aquellas personas por las que no conste una fecha de muerte y ordenar los datos de la persona más vieja a la persona más joven."
   ]
  },
  {
   "cell_type": "code",
   "execution_count": 26,
   "metadata": {},
   "outputs": [
    {
     "name": "stdout",
     "output_type": "stream",
     "text": [
      "Nombre, pais y fecha de nacimiento de las personas que no tienen fecha de muerte y ordena los datos de la persona mas vieja a la mas joven en la tabla tb_person\n",
      "('John Williams', 'United States', datetime.date(1928, 8, 8))\n",
      "('Vera Miles', 'United States', datetime.date(1929, 8, 23))\n",
      "('Sean Connery', 'Scotland', datetime.date(1930, 7, 8))\n",
      "('Robert Duvall', 'United States', datetime.date(1931, 1, 5))\n",
      "('Morgan Freeman', 'United States', datetime.date(1935, 10, 1))\n",
      "('Francis Ford Coppola', 'United States', datetime.date(1939, 4, 7))\n",
      "('Gary Kurtz', 'United States', datetime.date(1940, 7, 27))\n",
      "('Martin Sheen', 'United States', datetime.date(1940, 8, 3))\n",
      "('Harrison Ford', 'United States', datetime.date(1942, 7, 13))\n",
      "('George Lucas', 'United States', datetime.date(1944, 5, 14))\n",
      "('Carmine Coppola', 'United States', datetime.date(1945, 7, 8))\n",
      "('Steven Spielberg', 'United States', datetime.date(1946, 12, 18))\n",
      "('Tim Robbins', 'United States', datetime.date(1949, 6, 7))\n",
      "('Mel Gibson', 'Australia', datetime.date(1950, 8, 9))\n",
      "('Tom Hanks', 'United States', datetime.date(1956, 7, 9))\n",
      "('Emilio Martinez Lazaro', 'Spain', datetime.date(1956, 9, 9))\n",
      "('Karra Elejalde', 'Spain', datetime.date(1960, 3, 6))\n",
      "('Emilio Estevez', 'United States', datetime.date(1962, 5, 12))\n",
      "('Ramón Estevez', 'United States', datetime.date(1963, 8, 7))\n",
      "('Carmen Machi', 'Spain', datetime.date(1964, 8, 9))\n",
      "('Charlie Sheen', 'United States', datetime.date(1965, 9, 3))\n",
      "('Reneé Estevez', 'United States', datetime.date(1967, 4, 2))\n",
      "('Catherine Zeta-Jones', 'Wales', datetime.date(1969, 9, 25))\n",
      "('Robert Alamo', 'Spain', datetime.date(1970, 5, 6))\n",
      "('Daniel Sanchez Arevalo', 'Spain', datetime.date(1970, 6, 8))\n",
      "('Quim Gutierrez', 'Spain', datetime.date(1981, 3, 27))\n",
      "('Veronica Echegui', 'Spain', datetime.date(1983, 3, 14))\n",
      "('Taylor Levi Estevez', 'United States', datetime.date(1984, 6, 22))\n",
      "('Dani Rovira', 'Spain', datetime.date(1984, 7, 1))\n",
      "('Paula Speert Sheen', 'United States', datetime.date(1986, 1, 6))\n",
      "('Paloma Rae Estevez', 'United States', datetime.date(1986, 2, 15))\n",
      "('Clara Lago', 'Spain', datetime.date(1986, 4, 17))\n",
      "('Patrick Criado', 'Spain', datetime.date(1995, 9, 23))\n",
      "('Paula Jones-Sheen', 'United States', datetime.date(2003, 7, 6))\n",
      "('Sam Sheen', 'United States', datetime.date(2004, 3, 9))\n",
      "('Lola Sheen', 'United States', datetime.date(2005, 6, 1))\n",
      "('Bob Sheen', 'United States', datetime.date(2009, 5, 1))\n",
      "('Max Sheen', 'United States', datetime.date(2009, 5, 1))\n"
     ]
    }
   ],
   "source": [
    "#muestra el nombre, pais y fecha de nacimiento de las personas que no tienen fecha de muerte y ordena los datos de la persona mas vieja a la mas joven en la tabla tb_person\n",
    "cursor.execute(\"SELECT person_name, person_country, person_dob FROM tb_person WHERE person_dod IS NULL ORDER BY person_dob ASC\")\n",
    "rows = cursor.fetchall()\n",
    "print(\"Nombre, pais y fecha de nacimiento de las personas que no tienen fecha de muerte y ordena los datos de la persona mas vieja a la mas joven en la tabla tb_person\")\n",
    "for row in rows:\n",
    "    print(row)"
   ]
  },
  {
   "cell_type": "markdown",
   "metadata": {},
   "source": [
    "**EJERCICIO 3**: Realiza la siguiente consulta sobre la recién creada base de datos: \n",
    "\n",
    "Tienes que obtener el nombre del género y el número total de películas de ese género y ordenarlo por orden descendente de número total de películas.  "
   ]
  },
  {
   "cell_type": "code",
   "execution_count": 30,
   "metadata": {},
   "outputs": [
    {
     "name": "stdout",
     "output_type": "stream",
     "text": [
      "('Comedia', 3)\n",
      "('Acción', 2)\n",
      "('Ciencia Ficción', 2)\n",
      "('Drama', 2)\n",
      "('Romance', 2)\n",
      "('Suspense', 2)\n",
      "('Fantasía', 1)\n",
      "('Terror', 1)\n",
      "('Bélico', 1)\n"
     ]
    }
   ],
   "source": [
    "#obteniendo el nombre del genero y el numero total de peliculas que pertenecen a ese genero\n",
    "query = \"\"\"\n",
    "SELECT genre_name, COUNT(*) \n",
    "FROM tb_genre \n",
    "JOIN tb_movie ON tb_genre.genre_id = tb_movie.movie_genre_id \n",
    "GROUP BY genre_name\n",
    "ORDER BY COUNT(*) DESC;\n",
    "\"\"\"\n",
    "cursor.execute(query)\n",
    "\n",
    "# Recupera y muestra los resultados\n",
    "results = cursor.fetchall()\n",
    "for row in results:\n",
    "    print(row)"
   ]
  },
  {
   "cell_type": "markdown",
   "metadata": {},
   "source": [
    "**EJERCICIO 4**: Realiza la siguiente consulta sobre la recién creada base de datos: \n",
    "\n",
    "Tienes que obtener, para cada persona, su nombre y el número máximo de roles distintos que ha tenido en una misma película. \n",
    "\n",
    "Posteriormente, muestra únicamente a aquellas personas que hayan asumido más de un rol en una misma película."
   ]
  },
  {
   "cell_type": "code",
   "execution_count": 31,
   "metadata": {},
   "outputs": [
    {
     "name": "stdout",
     "output_type": "stream",
     "text": [
      "('Francis Ford Coppola', 3)\n",
      "('Alfred Joseph Hitchcock', 3)\n",
      "('George Lucas', 2)\n",
      "('Steven Spielberg', 2)\n",
      "('Daniel Sanchez Arevalo', 2)\n",
      "('Mel Gibson', 2)\n"
     ]
    }
   ],
   "source": [
    "# Ejecuta la consulta\n",
    "query = \"\"\"\n",
    "SELECT p.person_name, MAX(sub.num_roles) AS max_roles_in_one_movie\n",
    "FROM tb_person AS p\n",
    "JOIN (\n",
    "    SELECT movie_id, person_id, COUNT(DISTINCT role_id) AS num_roles\n",
    "    FROM tb_movie_person\n",
    "    GROUP BY movie_id, person_id\n",
    "    HAVING num_roles > 1\n",
    ") AS sub ON p.person_id = sub.person_id\n",
    "GROUP BY p.person_name\n",
    "HAVING max_roles_in_one_movie > 1\n",
    "ORDER BY max_roles_in_one_movie DESC;\n",
    "\"\"\"\n",
    "\n",
    "cursor.execute(query)\n",
    "\n",
    "# Recupera y muestra los resultados\n",
    "results = cursor.fetchall()\n",
    "for row in results:\n",
    "    print(row)\n"
   ]
  },
  {
   "cell_type": "markdown",
   "metadata": {},
   "source": [
    "**EJERCICIO 5**: Realiza la siguiente operación sobre la base de datos recién creada: \n",
    "\n",
    "Debes crear un nuevo género llamado \"Documental\" que tenga como identificador el número 69."
   ]
  },
  {
   "cell_type": "code",
   "execution_count": 32,
   "metadata": {},
   "outputs": [],
   "source": [
    "cursor.execute(\"INSERT INTO tb_genre (genre_id, genre_name) VALUES (69, 'Documental');\")\n",
    "connection.commit()"
   ]
  },
  {
   "cell_type": "code",
   "execution_count": 34,
   "metadata": {},
   "outputs": [
    {
     "name": "stdout",
     "output_type": "stream",
     "text": [
      "Nuevo genero agregado\n",
      "(69, 'Documental', 'OS_SGAD', None, None)\n"
     ]
    }
   ],
   "source": [
    "#muestra el nuevo genero agregado\n",
    "cursor.execute(\"SELECT * FROM tb_genre WHERE genre_id = 69\")\n",
    "rows = cursor.fetchall()\n",
    "print(\"Nuevo genero agregado\")\n",
    "for row in rows:\n",
    "    print(row)"
   ]
  },
  {
   "cell_type": "markdown",
   "metadata": {},
   "source": [
    "**EJEERCICIO 6**: Realiza la siguiente operación sobre la base de datos recién creada:  \n",
    "\n",
    "Elimina la película \"La Gran Familia Española\" de la base de datos."
   ]
  },
  {
   "cell_type": "code",
   "execution_count": 35,
   "metadata": {},
   "outputs": [
    {
     "name": "stdout",
     "output_type": "stream",
     "text": [
      "id de la pelicula que queremos modificar (11,)\n"
     ]
    }
   ],
   "source": [
    "#buscammos el id de la pelicula que queremos modificar\n",
    "cursor.execute(\"SELECT movie_id FROM tb_movie WHERE movie_title = 'La Gran Familia Española';\")\n",
    "movie_id_to_delete = cursor.fetchone()\n",
    "print(\"id de la pelicula que queremos modificar\", movie_id_to_delete)"
   ]
  },
  {
   "cell_type": "code",
   "execution_count": 38,
   "metadata": {},
   "outputs": [],
   "source": [
    "# Primero, eliminamos las entradas relacionadas de tb_movie_person\n",
    "if movie_id_to_delete:\n",
    "    cursor.execute(f\"DELETE FROM tb_movie_person WHERE movie_id = {movie_id_to_delete[0]};\")\n",
    "    connection.commit()\n",
    "\n",
    "    # Luego, eliminamos la película\n",
    "    cursor.execute(f\"DELETE FROM tb_movie WHERE movie_id = {movie_id_to_delete[0]};\")\n",
    "    connection.commit()"
   ]
  },
  {
   "cell_type": "code",
   "execution_count": 39,
   "metadata": {},
   "outputs": [],
   "source": [
    "#buscamos la pelicula eliminada\n",
    "cursor.execute(\"SELECT * FROM tb_movie WHERE movie_title = 'La Gran Familia Española';\")"
   ]
  },
  {
   "cell_type": "markdown",
   "metadata": {},
   "source": [
    "**EJERCICIO 7**: Realiza la siguiente operación sobre la base de datos recién creada: \n",
    "\n",
    "Cambia el género de la película \"Ocho apellidos catalanes\" para que conste como comedia y no como romántica."
   ]
  },
  {
   "cell_type": "code",
   "execution_count": 40,
   "metadata": {},
   "outputs": [
    {
     "name": "stdout",
     "output_type": "stream",
     "text": [
      "Género de la película 'Ocho apellidos catalanes' actualizado correctamente.\n"
     ]
    }
   ],
   "source": [
    "# Primero, obtenemos el genre_id para \"Comedia\"\n",
    "cursor.execute(\"SELECT genre_id FROM tb_genre WHERE genre_name = 'Comedia';\")\n",
    "genre_id_comedia = cursor.fetchone()\n",
    "if not genre_id_comedia:\n",
    "    print(\"El género Comedia no se encuentra en la base de datos.\")\n",
    "\n",
    "# Luego, actualizamos el registro de la película \"Ocho apellidos catalanes\"\n",
    "cursor.execute(f\"UPDATE tb_movie SET movie_genre_id = {genre_id_comedia[0]} WHERE movie_title = 'Ocho apellidos catalanes';\")\n",
    "connection.commit()\n",
    "\n",
    "print(\"Género de la película 'Ocho apellidos catalanes' actualizado correctamente.\")\n"
   ]
  },
  {
   "cell_type": "code",
   "execution_count": 41,
   "metadata": {},
   "outputs": [
    {
     "name": "stdout",
     "output_type": "stream",
     "text": [
      "Pelicula con el nuevo genero\n",
      "(9, 'Ocho Apellidos Catalanes', datetime.date(2016, 6, 9), 'Digital', 3, 'OS_SGAD', None, None)\n"
     ]
    }
   ],
   "source": [
    "#mostramos ahora la pelicula con el nuevo genero\n",
    "cursor.execute(\"SELECT * FROM tb_movie WHERE movie_title = 'Ocho apellidos catalanes';\")\n",
    "rows = cursor.fetchall()\n",
    "print(\"Pelicula con el nuevo genero\")\n",
    "for row in rows:\n",
    "    print(row)"
   ]
  },
  {
   "cell_type": "code",
   "execution_count": 43,
   "metadata": {},
   "outputs": [
    {
     "name": "stdout",
     "output_type": "stream",
     "text": [
      "A quien pertenece el id 9 en tb_genre\n",
      "(3, 'Comedia', 'OS_SGAD', None, None)\n"
     ]
    }
   ],
   "source": [
    "#miramos a quien pertenece el id 3 en tb_genre\n",
    "cursor.execute(\"SELECT * FROM tb_genre WHERE genre_name = 'comedia';\")\n",
    "rows = cursor.fetchall()\n",
    "print(\"A quien pertenece el id 9 en tb_genre\")\n",
    "for row in rows:\n",
    "    print(row)"
   ]
  },
  {
   "cell_type": "code",
   "execution_count": 44,
   "metadata": {},
   "outputs": [],
   "source": [
    "#close connection\n",
    "cursor.close()\n",
    "connection.close()"
   ]
  }
 ],
 "metadata": {
  "kernelspec": {
   "display_name": "Python 3",
   "language": "python",
   "name": "python3"
  },
  "language_info": {
   "codemirror_mode": {
    "name": "ipython",
    "version": 3
   },
   "file_extension": ".py",
   "mimetype": "text/x-python",
   "name": "python",
   "nbconvert_exporter": "python",
   "pygments_lexer": "ipython3",
   "version": "3.11.3"
  },
  "orig_nbformat": 4
 },
 "nbformat": 4,
 "nbformat_minor": 2
}

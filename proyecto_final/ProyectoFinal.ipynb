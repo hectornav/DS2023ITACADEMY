{
 "cells": [
  {
   "cell_type": "markdown",
   "metadata": {},
   "source": []
  },
  {
   "cell_type": "code",
   "execution_count": 3,
   "metadata": {},
   "outputs": [],
   "source": [
    "#entrenamos un modelo de clasificacion de imagenes para predecir si una planta esta enferma o no\n",
    "#usando la libreria keras\n",
    "#usamos el dataset de plantas de kaggle\n",
    "#https://www.kaggle.com/vipoooool/new-plant-diseases-dataset\n",
    "\n",
    "#librerias\n",
    "import numpy as np\n",
    "import pandas as pd\n",
    "import matplotlib.pyplot as plt\n",
    "import os\n",
    "import cv2\n",
    "import tensorflow as tf\n",
    "from tensorflow import keras\n",
    "from tensorflow.keras import layers\n",
    "from tensorflow.keras.models import Sequential\n",
    "import warnings\n",
    "warnings.filterwarnings('ignore')"
   ]
  },
  {
   "cell_type": "code",
   "execution_count": 4,
   "metadata": {},
   "outputs": [],
   "source": [
    "\n",
    "#path de las imagenes\n",
    "DATAPATH = \"/home/hnavarro/Downloads/archive_final_proyect/plantvillage_dataset\""
   ]
  },
  {
   "cell_type": "code",
   "execution_count": 5,
   "metadata": {},
   "outputs": [],
   "source": [
    "#creamos un diccionario con las clases\n",
    "classes = {}\n",
    "for i, folder in enumerate(os.listdir(DATAPATH)):\n",
    "    classes[i] = folder\n",
    "\n",
    "#creamos un diccionario con las imagenes\n",
    "images = {}\n",
    "for i, folder in enumerate(os.listdir(DATAPATH)):\n",
    "    images[i] = os.listdir(os.path.join(DATAPATH,folder))"
   ]
  },
  {
   "cell_type": "code",
   "execution_count": 6,
   "metadata": {},
   "outputs": [
    {
     "data": {
      "text/plain": [
       "{0: 'grayscale', 1: 'segmented', 2: 'color'}"
      ]
     },
     "execution_count": 6,
     "metadata": {},
     "output_type": "execute_result"
    }
   ],
   "source": [
    "classes"
   ]
  },
  {
   "cell_type": "code",
   "execution_count": null,
   "metadata": {},
   "outputs": [],
   "source": []
  }
 ],
 "metadata": {
  "kernelspec": {
   "display_name": "Python 3",
   "language": "python",
   "name": "python3"
  },
  "language_info": {
   "codemirror_mode": {
    "name": "ipython",
    "version": 3
   },
   "file_extension": ".py",
   "mimetype": "text/x-python",
   "name": "python",
   "nbconvert_exporter": "python",
   "pygments_lexer": "ipython3",
   "version": "3.10.12"
  }
 },
 "nbformat": 4,
 "nbformat_minor": 2
}

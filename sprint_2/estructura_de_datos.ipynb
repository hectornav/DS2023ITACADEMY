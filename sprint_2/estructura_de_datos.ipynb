{
 "cells": [
  {
   "cell_type": "markdown",
   "metadata": {},
   "source": [
    "<h1 style=\"text-align:center;\">Sprint 2: Estructura de datos</h1>"
   ]
  },
  {
   "cell_type": "markdown",
   "metadata": {},
   "source": [
    "**EJERCICIO 1**: Crea una lista que agrupe los meses del año en trimestres (1T: enero, febrero y marzo; 2T: abril, mayo, junio...), es decir, una lista con 4 listas dentro."
   ]
  },
  {
   "cell_type": "code",
   "execution_count": 1,
   "metadata": {},
   "outputs": [],
   "source": [
    "import calendar as cal"
   ]
  },
  {
   "cell_type": "code",
   "execution_count": 8,
   "metadata": {},
   "outputs": [],
   "source": [
    "\n",
    "# Creamos una lista con los nombres de los meses comenzando en enero\n",
    "meses = [cal.month_name[i] for i in range(1, 13)]\n",
    "\n",
    "# agrupamos en trimestres\n",
    "trimestres = [meses[i:i+3] for i in range(0, 12, 3)]"
   ]
  },
  {
   "cell_type": "code",
   "execution_count": 9,
   "metadata": {},
   "outputs": [
    {
     "data": {
      "text/plain": [
       "[['January', 'February', 'March'],\n",
       " ['April', 'May', 'June'],\n",
       " ['July', 'August', 'September'],\n",
       " ['October', 'November', 'December']]"
      ]
     },
     "execution_count": 9,
     "metadata": {},
     "output_type": "execute_result"
    }
   ],
   "source": [
    "trimestres"
   ]
  },
  {
   "cell_type": "markdown",
   "metadata": {},
   "source": [
    "**EJERCICIO 2**:Crea un código que te permita acceder a:\n",
    "\n",
    "* El segundo mes del primer trimestre.\n",
    "* Los meses del primer trimestre.\n",
    "* Septiembre y octubre."
   ]
  },
  {
   "cell_type": "code",
   "execution_count": 32,
   "metadata": {},
   "outputs": [
    {
     "name": "stdout",
     "output_type": "stream",
     "text": [
      "El segundo mes del primer trimestre es: February\n",
      "Los meses del primer trimestre son: ['January', 'February', 'March']\n",
      "Septiembre y octubre: ['September', 'October']\n"
     ]
    }
   ],
   "source": [
    "#el segundo mes del primer trimestre\n",
    "print(f'El segundo mes del primer trimestre es: {trimestres[0][1]}')\n",
    "#Los meses del primer trimestre\n",
    "print(f'Los meses del primer trimestre son: {trimestres[0]}')\n",
    "#septiembre y octubre\n",
    "print(f'Septiembre y octubre: {meses[8:10]}')"
   ]
  },
  {
   "cell_type": "markdown",
   "metadata": {},
   "source": [
    "**EJERCICIO 3**: Crea una lista con números desordenados y responde a las siguientes preguntas:\n",
    "\n",
    "* ¿Cuántos números hay?\n",
    "* Cuántas veces aparece el número 3.\n",
    "* ¿Cuántas veces aparecen los números 3 y 4?\n",
    "* ¿Cuál es el mayor número?\n",
    "* ¿Cuáles son los 3 números más pequeños?\n",
    "* ¿Cuál es el rango de esa lista?"
   ]
  },
  {
   "cell_type": "code",
   "execution_count": 10,
   "metadata": {},
   "outputs": [],
   "source": [
    "from random import randint"
   ]
  },
  {
   "cell_type": "code",
   "execution_count": 25,
   "metadata": {},
   "outputs": [
    {
     "data": {
      "text/plain": [
       "[91, 57, 44, 16, 15, 79, 30, 57, 80, 6, 22, 1, 46, 46, 68, 6, 0, 40, 96, 54]"
      ]
     },
     "execution_count": 25,
     "metadata": {},
     "output_type": "execute_result"
    }
   ],
   "source": [
    "rndn_list = [randint(0, 100) for i in range(20)]\n",
    "rndn_list"
   ]
  },
  {
   "cell_type": "code",
   "execution_count": 26,
   "metadata": {},
   "outputs": [
    {
     "name": "stdout",
     "output_type": "stream",
     "text": [
      "Hay 20 numeros en la lista\n"
     ]
    }
   ],
   "source": [
    "# ¿cuantos numeros hay?\n",
    "print(f'Hay {len(rndn_list)} numeros en la lista')"
   ]
  },
  {
   "cell_type": "code",
   "execution_count": 27,
   "metadata": {},
   "outputs": [
    {
     "name": "stdout",
     "output_type": "stream",
     "text": [
      "El numero 3 aparece 0 veces\n"
     ]
    }
   ],
   "source": [
    "#¿Cuantas veces aparece el numero 3?\n",
    "print(f'El numero 3 aparece {rndn_list.count(3)} veces')"
   ]
  },
  {
   "cell_type": "code",
   "execution_count": 28,
   "metadata": {},
   "outputs": [
    {
     "name": "stdout",
     "output_type": "stream",
     "text": [
      "El numero 3 aparece 0 veces\n",
      "El numero 4 aparece 0 veces\n"
     ]
    }
   ],
   "source": [
    "#¿Cuantas veces aparecen los numeros 3 y 4?\n",
    "print(f'El numero 3 aparece {rndn_list.count(3)} veces')\n",
    "print(f'El numero 4 aparece {rndn_list.count(4)} veces')"
   ]
  },
  {
   "cell_type": "code",
   "execution_count": 29,
   "metadata": {},
   "outputs": [
    {
     "name": "stdout",
     "output_type": "stream",
     "text": [
      "El numero mayor es 96\n"
     ]
    }
   ],
   "source": [
    "#¿Cual es el mayor numero?\n",
    "print(f'El numero mayor es {max(rndn_list)}')"
   ]
  },
  {
   "cell_type": "code",
   "execution_count": 30,
   "metadata": {},
   "outputs": [
    {
     "name": "stdout",
     "output_type": "stream",
     "text": [
      "Los tres numeros mas pequeños son [0, 1, 6]\n"
     ]
    }
   ],
   "source": [
    "#¿Cuales son los 3 numeros mas pequeños?\n",
    "print(f'Los tres numeros mas pequeños son {sorted(rndn_list)[:3]}')"
   ]
  },
  {
   "cell_type": "code",
   "execution_count": 31,
   "metadata": {},
   "outputs": [
    {
     "name": "stdout",
     "output_type": "stream",
     "text": [
      "El rango de la lista es 96\n"
     ]
    }
   ],
   "source": [
    "#¿Cual es el rango de esa lista?\n",
    "print(f'El rango de la lista es {max(rndn_list) - min(rndn_list)}')"
   ]
  },
  {
   "cell_type": "markdown",
   "metadata": {},
   "source": [
    "**EJERCICIO 4**:  Crea un diccionario de la siguiente forma y responde a las preguntas:\n",
    "\n",
    "`compra = { \"Pomes\" : {\"Qty\": 5, \"€\": 0.42}, \"Peres\" : {\"Qty\": 3, \"€\": 0.66} }', Añade alguna fruta más.\n",
    "* ¿Cuánto han costado las peras en total?\n",
    "* ¿Cuántas frutas hemos comprado en total?\n",
    "* ¿Cuál es la fruta más cara?"
   ]
  },
  {
   "cell_type": "code",
   "execution_count": 36,
   "metadata": {},
   "outputs": [
    {
     "name": "stdout",
     "output_type": "stream",
     "text": [
      "Las peras han costado 1.98\n",
      "En total hemos comprado 10 frutas\n",
      "La fruta mas cara es: Peres, con un precio de 0.66\n"
     ]
    }
   ],
   "source": [
    "compra = { \"Pomes\" : {\"Qty\": 5, \"€\": 0.42}, \"Peres\" : {\"Qty\": 3, \"€\": 0.66}, 'Taronja': {\"Qty\": 2, \"€\": 0.25} }\n",
    "#¿Caunto han costado las peres en total?\n",
    "print(f'Las peras han costado {compra[\"Peres\"][\"Qty\"] * compra[\"Peres\"][\"€\"]}')\n",
    "#¿Cuantas frutas hemos comprado en total?\n",
    "print(f'En total hemos comprado {sum([compra[i][\"Qty\"] for i in compra])} frutas')\n",
    "#¿Cual es la fruta mas cara?\n",
    "print(f'La fruta mas cara es: { max(compra, key=lambda fruta: compra[fruta][\"€\"])}, con un precio de {max([compra[i][\"€\"] for i in compra])}')"
   ]
  }
 ],
 "metadata": {
  "kernelspec": {
   "display_name": "Python 3",
   "language": "python",
   "name": "python3"
  },
  "language_info": {
   "codemirror_mode": {
    "name": "ipython",
    "version": 3
   },
   "file_extension": ".py",
   "mimetype": "text/x-python",
   "name": "python",
   "nbconvert_exporter": "python",
   "pygments_lexer": "ipython3",
   "version": "3.11.3"
  },
  "orig_nbformat": 4
 },
 "nbformat": 4,
 "nbformat_minor": 2
}

{
 "cells": [
  {
   "cell_type": "markdown",
   "metadata": {},
   "source": [
    "<h1 style='text-align:center;'>SPRINT 2: Estructuras de control</h1>"
   ]
  },
  {
   "cell_type": "markdown",
   "metadata": {},
   "source": [
    "**EJERCICIO 1**: El ejercicio consiste en crear una función que te clasifique una variable numérica en función de la escala Suspendido/Aprobado/Notable/Excelente.\n",
    "\n",
    "Recuerda que Suspendido < 5, Aprobado > 5 y < 7, Notable > 7 y < 9 y Excelente > 9."
   ]
  },
  {
   "cell_type": "code",
   "execution_count": 6,
   "metadata": {},
   "outputs": [],
   "source": [
    "def clasifica_numvar(numvar):\n",
    "    '''\n",
    "    Funcion que clasifica un numero en funcion de la escala Suspendido/Aprobado/Notable/Excelente\n",
    "    '''\n",
    "    #si la variable es no numerica, devuelve un error\n",
    "    try:\n",
    "        if numvar < 5:\n",
    "            return 'Suspendido'\n",
    "        elif numvar < 7:\n",
    "            return 'Aprobado'\n",
    "        elif numvar < 9:\n",
    "            return 'Notable'\n",
    "        else:\n",
    "            return 'Excelente'\n",
    "    except:\n",
    "        return 'Error en el dato de entrada'"
   ]
  },
  {
   "cell_type": "code",
   "execution_count": 9,
   "metadata": {},
   "outputs": [
    {
     "data": {
      "text/plain": [
       "'Excelente'"
      ]
     },
     "execution_count": 9,
     "metadata": {},
     "output_type": "execute_result"
    }
   ],
   "source": [
    "clasifica_numvar(10)"
   ]
  },
  {
   "cell_type": "code",
   "execution_count": 10,
   "metadata": {},
   "outputs": [
    {
     "data": {
      "text/plain": [
       "'Error en el dato de entrada'"
      ]
     },
     "execution_count": 10,
     "metadata": {},
     "output_type": "execute_result"
    }
   ],
   "source": [
    "clasifica_numvar('a')"
   ]
  },
  {
   "cell_type": "markdown",
   "metadata": {},
   "source": [
    "**EJERCICIO 2**: Usando el siguiente tutorial crea una función que te pregunte dos números. Debe mostrarte un mensaje diciendo si el primero es mayor, el segundo es mayor o son iguales."
   ]
  },
  {
   "cell_type": "code",
   "execution_count": 19,
   "metadata": {},
   "outputs": [],
   "source": [
    "def dos_numeros():\n",
    "    '''\n",
    "    Funcion que devuelve un mensaje indicando si el primero es mayor, el segundo es mayor o son iguales\n",
    "    '''\n",
    "    try:\n",
    "        # Pedir los dos números\n",
    "        num1 = float(input(\"Introduce el primer número: \"))\n",
    "        num2 = float(input(\"Introduce el segundo número: \"))\n",
    "\n",
    "        # Comprobar y mostrar el resultado\n",
    "        if num1 > num2:\n",
    "            print(\"El primer número es mayor.\")\n",
    "        elif num1 < num2:\n",
    "            print(\"El segundo número es mayor.\")\n",
    "        else:\n",
    "            print(\"Ambos números son iguales.\")\n",
    "\n",
    "    except ValueError:\n",
    "        print(\"Por favor, introduce solo números.\")\n",
    "\n"
   ]
  },
  {
   "cell_type": "code",
   "execution_count": 20,
   "metadata": {},
   "outputs": [
    {
     "name": "stdout",
     "output_type": "stream",
     "text": [
      "El segundo número es mayor.\n"
     ]
    }
   ],
   "source": [
    "#comprobamos la funcion con dos numeros\n",
    "dos_numeros()"
   ]
  },
  {
   "cell_type": "code",
   "execution_count": 21,
   "metadata": {},
   "outputs": [
    {
     "name": "stdout",
     "output_type": "stream",
     "text": [
      "Por favor, introduce solo números.\n"
     ]
    }
   ],
   "source": [
    "#comprombamos la funcion con un numero y una letra\n",
    "dos_numeros()"
   ]
  },
  {
   "cell_type": "markdown",
   "metadata": {},
   "source": [
    "**EJERCICIO 3**: Crea una función que te pregunte tu nombre, y pida un número. Si el número es 0, debería mostrar un mensaje de error. De lo contrario, debería mostrar el nombre repetido tantas veces como indique el número. Por ejemplo, \"Joan Joan Joan\"."
   ]
  },
  {
   "cell_type": "code",
   "execution_count": 26,
   "metadata": {},
   "outputs": [],
   "source": [
    "def nombre_numero():\n",
    "    ''' Funcion que pregunta tu nombre, y un numero. Si el numero es 0, muestra error. De lo contrario\\\n",
    "        devuelve el nombre repetido tantas veces como indique el numero'''\n",
    "    try:\n",
    "        # Pedir nombre y número\n",
    "        nombre = input(\"¿Cómo te llamas? \")\n",
    "        numero = int(input(\"Dime un número: \"))\n",
    "\n",
    "        # Mostrar el nombre repetido\n",
    "        if numero == 0:\n",
    "            print(\"Error, el número debe ser distinto de cero\")\n",
    "        else:\n",
    "            #imprime el nombre tantas veces como indique el numero con salto de linea\n",
    "            print((nombre + \"\\n\") * numero)\n",
    "    except ValueError:\n",
    "        print(\"Error, el número debe ser entero\")"
   ]
  },
  {
   "cell_type": "code",
   "execution_count": 27,
   "metadata": {},
   "outputs": [
    {
     "name": "stdout",
     "output_type": "stream",
     "text": [
      "Hector\n",
      "Hector\n",
      "Hector\n",
      "Hector\n",
      "Hector\n",
      "\n"
     ]
    }
   ],
   "source": [
    "#comprobamos la funcion con el nombre Hector y el numero 5\n",
    "nombre_numero()"
   ]
  },
  {
   "cell_type": "code",
   "execution_count": 28,
   "metadata": {},
   "outputs": [
    {
     "name": "stdout",
     "output_type": "stream",
     "text": [
      "Error, el número debe ser distinto de cero\n"
     ]
    }
   ],
   "source": [
    "#comprobamos la funcion con el nombre Hector y el numero 0\n",
    "nombre_numero()"
   ]
  },
  {
   "cell_type": "markdown",
   "metadata": {},
   "source": [
    "**EJERCICIO 4**: Crea una función que dada una lista cualquiera, te diga si es simétrica o no. Si lo es, que te diga cuántos elementos tiene."
   ]
  },
  {
   "cell_type": "code",
   "execution_count": 29,
   "metadata": {},
   "outputs": [],
   "source": [
    "def hay_simetria(lista):\n",
    "    '''\n",
    "    Funcion que comprueba si una lista es simetrica\n",
    "    '''\n",
    "    if lista == lista[::-1]:\n",
    "        print(\"La lista es simétrica y tiene\", len(lista), \"elementos.\")\n",
    "    else:\n",
    "        print(\"La lista no es simétrica.\")"
   ]
  },
  {
   "cell_type": "code",
   "execution_count": 30,
   "metadata": {},
   "outputs": [
    {
     "name": "stdout",
     "output_type": "stream",
     "text": [
      "La lista es simétrica y tiene 6 elementos.\n"
     ]
    }
   ],
   "source": [
    "#comprobamos la funcion con una lista simetrica\n",
    "hay_simetria([1,2,3,3,2,1])"
   ]
  },
  {
   "cell_type": "code",
   "execution_count": 31,
   "metadata": {},
   "outputs": [
    {
     "name": "stdout",
     "output_type": "stream",
     "text": [
      "La lista no es simétrica.\n"
     ]
    }
   ],
   "source": [
    "#cambiamos el ultimo elemento de la lista para que no sea simetrica\n",
    "hay_simetria([1,2,3,3,2,2])"
   ]
  },
  {
   "cell_type": "markdown",
   "metadata": {},
   "source": [
    "**EJERCICIO 5**: Crea una función que dada una lista, te diga cuántos números coinciden con su posición. Por ejemplo [3,4,2,0,2,3,6] el 2 y el 6 coinciden."
   ]
  },
  {
   "cell_type": "code",
   "execution_count": 32,
   "metadata": {},
   "outputs": [],
   "source": [
    "def posicion_coindiencia(lista):\n",
    "    ''' Funcion que devuelve el numero de elementos que coinciden con su posicion en la lista'''\n",
    "    count = 0\n",
    "    for i, num in enumerate(lista):\n",
    "        if i == num:\n",
    "            count += 1\n",
    "    return count"
   ]
  },
  {
   "cell_type": "code",
   "execution_count": 36,
   "metadata": {},
   "outputs": [
    {
     "data": {
      "text/plain": [
       "8"
      ]
     },
     "execution_count": 36,
     "metadata": {},
     "output_type": "execute_result"
    }
   ],
   "source": [
    "#comprobamos la funcion con una lista\n",
    "posicion_coindiencia([0,10,2,3,8,5,6,7,8,9])"
   ]
  }
 ],
 "metadata": {
  "kernelspec": {
   "display_name": "Python 3",
   "language": "python",
   "name": "python3"
  },
  "language_info": {
   "codemirror_mode": {
    "name": "ipython",
    "version": 3
   },
   "file_extension": ".py",
   "mimetype": "text/x-python",
   "name": "python",
   "nbconvert_exporter": "python",
   "pygments_lexer": "ipython3",
   "version": "3.11.3"
  },
  "orig_nbformat": 4
 },
 "nbformat": 4,
 "nbformat_minor": 2
}
